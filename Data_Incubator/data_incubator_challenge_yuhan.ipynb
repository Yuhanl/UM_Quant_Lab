{
 "cells": [
  {
   "cell_type": "markdown",
   "metadata": {},
   "source": [
    "## Data Incubator Challenge\n",
    "\n",
    "This notebook shows questions from Data Incubator Challenge of 2019\n",
    "\n",
    "## Table of Contents\n",
    "\n",
    "1. [Section 1: New York City Fires](#Section-1:-New-York-City-Fires)\n",
    "2. [Section 2: Cars in a circular road](#Section-2:-Cars-in-a-circular-road)"
   ]
  },
  {
   "cell_type": "markdown",
   "metadata": {},
   "source": [
    "### Section 1: New York City Fires\n",
    "#### ([Back to Top](#Table-of-Contents))\n",
    "The New York City Fire Department keeps a log of detailed information on incidents handled by FDNY units. In this challenge we will work with a dataset that contains a record of incidents handled by FDNY units from 2013-2017. Download the FDNY data set.(https://data.cityofnewyork.us/api/views/tm6d-hbzd/rows.csv?accessType=DOWNLOAD) Also take a look at the dataset landing page(https://data.cityofnewyork.us/Public-Safety/Incidents-Responded-to-by-Fire-Companies/tm6d-hbzd) and find descriptions of column names here. (https://data.cityofnewyork.us/api/views/tm6d-hbzd/files/1434d09c-fbf8-4450-8b42-9fe0c3b85fb3?download=true&filename=OPEN_DATA_FIRE_INCIDENTS_FILE_DESCRIPTION.xls)\n",
    "\n",
    "1. What proportion of FDNY responses in this dataset correspond to the most common type of incident?"
   ]
  },
  {
   "cell_type": "code",
   "execution_count": 38,
   "metadata": {
    "scrolled": true
   },
   "outputs": [
    {
     "name": "stderr",
     "output_type": "stream",
     "text": [
      "/Users/yuhanliu/anaconda3/lib/python3.6/site-packages/IPython/core/interactiveshell.py:2785: DtypeWarning: Columns (1,14) have mixed types. Specify dtype option on import or set low_memory=False.\n",
      "  interactivity=interactivity, compiler=compiler, result=result)\n"
     ]
    },
    {
     "data": {
      "text/html": [
       "<div>\n",
       "<style scoped>\n",
       "    .dataframe tbody tr th:only-of-type {\n",
       "        vertical-align: middle;\n",
       "    }\n",
       "\n",
       "    .dataframe tbody tr th {\n",
       "        vertical-align: top;\n",
       "    }\n",
       "\n",
       "    .dataframe thead th {\n",
       "        text-align: right;\n",
       "    }\n",
       "</style>\n",
       "<table border=\"1\" class=\"dataframe\">\n",
       "  <thead>\n",
       "    <tr style=\"text-align: right;\">\n",
       "      <th></th>\n",
       "      <th>IM_INCIDENT_KEY</th>\n",
       "      <th>FIRE_BOX</th>\n",
       "      <th>INCIDENT_TYPE_DESC</th>\n",
       "      <th>INCIDENT_DATE_TIME</th>\n",
       "      <th>ARRIVAL_DATE_TIME</th>\n",
       "      <th>UNITS_ONSCENE</th>\n",
       "      <th>LAST_UNIT_CLEARED_DATE_TIME</th>\n",
       "      <th>HIGHEST_LEVEL_DESC</th>\n",
       "      <th>TOTAL_INCIDENT_DURATION</th>\n",
       "      <th>ACTION_TAKEN1_DESC</th>\n",
       "      <th>...</th>\n",
       "      <th>ZIP_CODE</th>\n",
       "      <th>BOROUGH_DESC</th>\n",
       "      <th>FLOOR</th>\n",
       "      <th>CO_DETECTOR_PRESENT_DESC</th>\n",
       "      <th>FIRE_ORIGIN_BELOW_GRADE_FLAG</th>\n",
       "      <th>STORY_FIRE_ORIGIN_COUNT</th>\n",
       "      <th>FIRE_SPREAD_DESC</th>\n",
       "      <th>DETECTOR_PRESENCE_DESC</th>\n",
       "      <th>AES_PRESENCE_DESC</th>\n",
       "      <th>STANDPIPE_SYS_PRESENT_FLAG</th>\n",
       "    </tr>\n",
       "  </thead>\n",
       "  <tbody>\n",
       "    <tr>\n",
       "      <th>0</th>\n",
       "      <td>63476768</td>\n",
       "      <td>2928</td>\n",
       "      <td>746 - Carbon monoxide detector activation, no CO</td>\n",
       "      <td>06/30/2018 11:55:29 PM</td>\n",
       "      <td>07/01/2018 12:00:32 AM</td>\n",
       "      <td>2.0</td>\n",
       "      <td>07/01/2018 12:22:57 AM</td>\n",
       "      <td>11 - First Alarm</td>\n",
       "      <td>1648.0</td>\n",
       "      <td>42 - HazMat detection, monitoring, sampling, &amp;...</td>\n",
       "      <td>...</td>\n",
       "      <td>10453</td>\n",
       "      <td>2 - Bronx</td>\n",
       "      <td>1</td>\n",
       "      <td>Yes</td>\n",
       "      <td>NaN</td>\n",
       "      <td>NaN</td>\n",
       "      <td>NaN</td>\n",
       "      <td>NaN</td>\n",
       "      <td>NaN</td>\n",
       "      <td>NaN</td>\n",
       "    </tr>\n",
       "    <tr>\n",
       "      <th>1</th>\n",
       "      <td>63476763</td>\n",
       "      <td>1021</td>\n",
       "      <td>300 - Rescue, EMS incident, other</td>\n",
       "      <td>06/30/2018 11:54:44 PM</td>\n",
       "      <td>06/30/2018 11:58:59 PM</td>\n",
       "      <td>1.0</td>\n",
       "      <td>07/01/2018 12:09:29 AM</td>\n",
       "      <td>11 - First Alarm</td>\n",
       "      <td>885.0</td>\n",
       "      <td>00 - Action taken, other</td>\n",
       "      <td>...</td>\n",
       "      <td>11203</td>\n",
       "      <td>4 - Brooklyn</td>\n",
       "      <td>NaN</td>\n",
       "      <td>NaN</td>\n",
       "      <td>NaN</td>\n",
       "      <td>NaN</td>\n",
       "      <td>NaN</td>\n",
       "      <td>NaN</td>\n",
       "      <td>NaN</td>\n",
       "      <td>NaN</td>\n",
       "    </tr>\n",
       "    <tr>\n",
       "      <th>2</th>\n",
       "      <td>63476761</td>\n",
       "      <td>2745</td>\n",
       "      <td>651 - Smoke scare, odor of smoke</td>\n",
       "      <td>06/30/2018 11:54:13 PM</td>\n",
       "      <td>06/30/2018 11:58:29 PM</td>\n",
       "      <td>3.0</td>\n",
       "      <td>07/01/2018 12:07:50 AM</td>\n",
       "      <td>11 - First Alarm</td>\n",
       "      <td>817.0</td>\n",
       "      <td>00 - Action taken, other</td>\n",
       "      <td>...</td>\n",
       "      <td>10456</td>\n",
       "      <td>2 - Bronx</td>\n",
       "      <td>NaN</td>\n",
       "      <td>NaN</td>\n",
       "      <td>NaN</td>\n",
       "      <td>NaN</td>\n",
       "      <td>NaN</td>\n",
       "      <td>NaN</td>\n",
       "      <td>NaN</td>\n",
       "      <td>NaN</td>\n",
       "    </tr>\n",
       "    <tr>\n",
       "      <th>3</th>\n",
       "      <td>63476762</td>\n",
       "      <td>2135</td>\n",
       "      <td>117 - Commercial Compactor fire, confined to r...</td>\n",
       "      <td>06/30/2018 11:54:08 PM</td>\n",
       "      <td>06/30/2018 11:58:53 PM</td>\n",
       "      <td>5.0</td>\n",
       "      <td>07/01/2018 12:19:16 AM</td>\n",
       "      <td>11 - First Alarm</td>\n",
       "      <td>1508.0</td>\n",
       "      <td>11 - Extinguishment by fire service personnel</td>\n",
       "      <td>...</td>\n",
       "      <td>10454</td>\n",
       "      <td>2 - Bronx</td>\n",
       "      <td>basement</td>\n",
       "      <td>NaN</td>\n",
       "      <td>NaN</td>\n",
       "      <td>NaN</td>\n",
       "      <td>NaN</td>\n",
       "      <td>NaN</td>\n",
       "      <td>NaN</td>\n",
       "      <td>NaN</td>\n",
       "    </tr>\n",
       "    <tr>\n",
       "      <th>4</th>\n",
       "      <td>63476759</td>\n",
       "      <td>1877</td>\n",
       "      <td>710 - Malicious, mischievous false call, other</td>\n",
       "      <td>06/30/2018 11:53:33 PM</td>\n",
       "      <td>06/30/2018 11:56:50 PM</td>\n",
       "      <td>1.0</td>\n",
       "      <td>06/30/2018 11:57:11 PM</td>\n",
       "      <td>11 - First Alarm</td>\n",
       "      <td>218.0</td>\n",
       "      <td>00 - Action taken, other</td>\n",
       "      <td>...</td>\n",
       "      <td>11208</td>\n",
       "      <td>4 - Brooklyn</td>\n",
       "      <td>NaN</td>\n",
       "      <td>NaN</td>\n",
       "      <td>NaN</td>\n",
       "      <td>NaN</td>\n",
       "      <td>NaN</td>\n",
       "      <td>NaN</td>\n",
       "      <td>NaN</td>\n",
       "      <td>NaN</td>\n",
       "    </tr>\n",
       "  </tbody>\n",
       "</table>\n",
       "<p>5 rows × 24 columns</p>\n",
       "</div>"
      ],
      "text/plain": [
       "   IM_INCIDENT_KEY FIRE_BOX  \\\n",
       "0         63476768     2928   \n",
       "1         63476763     1021   \n",
       "2         63476761     2745   \n",
       "3         63476762     2135   \n",
       "4         63476759     1877   \n",
       "\n",
       "                                  INCIDENT_TYPE_DESC      INCIDENT_DATE_TIME  \\\n",
       "0   746 - Carbon monoxide detector activation, no CO  06/30/2018 11:55:29 PM   \n",
       "1                  300 - Rescue, EMS incident, other  06/30/2018 11:54:44 PM   \n",
       "2                   651 - Smoke scare, odor of smoke  06/30/2018 11:54:13 PM   \n",
       "3  117 - Commercial Compactor fire, confined to r...  06/30/2018 11:54:08 PM   \n",
       "4     710 - Malicious, mischievous false call, other  06/30/2018 11:53:33 PM   \n",
       "\n",
       "        ARRIVAL_DATE_TIME  UNITS_ONSCENE LAST_UNIT_CLEARED_DATE_TIME  \\\n",
       "0  07/01/2018 12:00:32 AM            2.0      07/01/2018 12:22:57 AM   \n",
       "1  06/30/2018 11:58:59 PM            1.0      07/01/2018 12:09:29 AM   \n",
       "2  06/30/2018 11:58:29 PM            3.0      07/01/2018 12:07:50 AM   \n",
       "3  06/30/2018 11:58:53 PM            5.0      07/01/2018 12:19:16 AM   \n",
       "4  06/30/2018 11:56:50 PM            1.0      06/30/2018 11:57:11 PM   \n",
       "\n",
       "  HIGHEST_LEVEL_DESC  TOTAL_INCIDENT_DURATION  \\\n",
       "0   11 - First Alarm                   1648.0   \n",
       "1   11 - First Alarm                    885.0   \n",
       "2   11 - First Alarm                    817.0   \n",
       "3   11 - First Alarm                   1508.0   \n",
       "4   11 - First Alarm                    218.0   \n",
       "\n",
       "                                  ACTION_TAKEN1_DESC  \\\n",
       "0  42 - HazMat detection, monitoring, sampling, &...   \n",
       "1                           00 - Action taken, other   \n",
       "2                           00 - Action taken, other   \n",
       "3      11 - Extinguishment by fire service personnel   \n",
       "4                           00 - Action taken, other   \n",
       "\n",
       "              ...             ZIP_CODE  BOROUGH_DESC     FLOOR  \\\n",
       "0             ...                10453     2 - Bronx         1   \n",
       "1             ...                11203  4 - Brooklyn       NaN   \n",
       "2             ...                10456     2 - Bronx       NaN   \n",
       "3             ...                10454     2 - Bronx  basement   \n",
       "4             ...                11208  4 - Brooklyn       NaN   \n",
       "\n",
       "  CO_DETECTOR_PRESENT_DESC FIRE_ORIGIN_BELOW_GRADE_FLAG  \\\n",
       "0                      Yes                          NaN   \n",
       "1                      NaN                          NaN   \n",
       "2                      NaN                          NaN   \n",
       "3                      NaN                          NaN   \n",
       "4                      NaN                          NaN   \n",
       "\n",
       "  STORY_FIRE_ORIGIN_COUNT FIRE_SPREAD_DESC DETECTOR_PRESENCE_DESC  \\\n",
       "0                     NaN              NaN                    NaN   \n",
       "1                     NaN              NaN                    NaN   \n",
       "2                     NaN              NaN                    NaN   \n",
       "3                     NaN              NaN                    NaN   \n",
       "4                     NaN              NaN                    NaN   \n",
       "\n",
       "   AES_PRESENCE_DESC  STANDPIPE_SYS_PRESENT_FLAG  \n",
       "0                NaN                         NaN  \n",
       "1                NaN                         NaN  \n",
       "2                NaN                         NaN  \n",
       "3                NaN                         NaN  \n",
       "4                NaN                         NaN  \n",
       "\n",
       "[5 rows x 24 columns]"
      ]
     },
     "execution_count": 38,
     "metadata": {},
     "output_type": "execute_result"
    }
   ],
   "source": [
    "import pandas as pd\n",
    "import numpy as np\n",
    "data = pd.read_csv('Incidents_Responded_to_by_Fire_Companies.csv')\n",
    "data.head()"
   ]
  },
  {
   "cell_type": "code",
   "execution_count": 39,
   "metadata": {},
   "outputs": [
    {
     "data": {
      "text/plain": [
       "0.35988610259500914"
      ]
     },
     "execution_count": 39,
     "metadata": {},
     "output_type": "execute_result"
    }
   ],
   "source": [
    "incidents = pd.DataFrame(data.groupby('INCIDENT_TYPE_DESC')['INCIDENT_TYPE_DESC'].size())\n",
    "most_common_ratio = float(incidents.max())/len(data.INCIDENT_TYPE_DESC)\n",
    "most_common_ratio"
   ]
  },
  {
   "cell_type": "markdown",
   "metadata": {},
   "source": [
    "2. What is the ratio of the average number of units that arrive to a scene of an incident classified as `111 - Building fire` to the number that arrive for `651 - Smoke scare, odor of smoke`?"
   ]
  },
  {
   "cell_type": "code",
   "execution_count": 40,
   "metadata": {},
   "outputs": [
    {
     "data": {
      "text/html": [
       "<div>\n",
       "<style scoped>\n",
       "    .dataframe tbody tr th:only-of-type {\n",
       "        vertical-align: middle;\n",
       "    }\n",
       "\n",
       "    .dataframe tbody tr th {\n",
       "        vertical-align: top;\n",
       "    }\n",
       "\n",
       "    .dataframe thead th {\n",
       "        text-align: right;\n",
       "    }\n",
       "</style>\n",
       "<table border=\"1\" class=\"dataframe\">\n",
       "  <thead>\n",
       "    <tr style=\"text-align: right;\">\n",
       "      <th></th>\n",
       "      <th>IM_INCIDENT_KEY</th>\n",
       "      <th>FIRE_BOX</th>\n",
       "      <th>INCIDENT_TYPE_DESC</th>\n",
       "      <th>INCIDENT_DATE_TIME</th>\n",
       "      <th>ARRIVAL_DATE_TIME</th>\n",
       "      <th>UNITS_ONSCENE</th>\n",
       "      <th>LAST_UNIT_CLEARED_DATE_TIME</th>\n",
       "      <th>HIGHEST_LEVEL_DESC</th>\n",
       "      <th>TOTAL_INCIDENT_DURATION</th>\n",
       "      <th>ACTION_TAKEN1_DESC</th>\n",
       "      <th>...</th>\n",
       "      <th>BOROUGH_DESC</th>\n",
       "      <th>FLOOR</th>\n",
       "      <th>CO_DETECTOR_PRESENT_DESC</th>\n",
       "      <th>FIRE_ORIGIN_BELOW_GRADE_FLAG</th>\n",
       "      <th>STORY_FIRE_ORIGIN_COUNT</th>\n",
       "      <th>FIRE_SPREAD_DESC</th>\n",
       "      <th>DETECTOR_PRESENCE_DESC</th>\n",
       "      <th>AES_PRESENCE_DESC</th>\n",
       "      <th>STANDPIPE_SYS_PRESENT_FLAG</th>\n",
       "      <th>INCIDENT_TYPE_CODE</th>\n",
       "    </tr>\n",
       "  </thead>\n",
       "  <tbody>\n",
       "    <tr>\n",
       "      <th>0</th>\n",
       "      <td>63476768</td>\n",
       "      <td>2928</td>\n",
       "      <td>746 - Carbon monoxide detector activation, no CO</td>\n",
       "      <td>06/30/2018 11:55:29 PM</td>\n",
       "      <td>07/01/2018 12:00:32 AM</td>\n",
       "      <td>2.0</td>\n",
       "      <td>07/01/2018 12:22:57 AM</td>\n",
       "      <td>11 - First Alarm</td>\n",
       "      <td>1648.0</td>\n",
       "      <td>42 - HazMat detection, monitoring, sampling, &amp;...</td>\n",
       "      <td>...</td>\n",
       "      <td>2 - Bronx</td>\n",
       "      <td>1</td>\n",
       "      <td>Yes</td>\n",
       "      <td>NaN</td>\n",
       "      <td>NaN</td>\n",
       "      <td>NaN</td>\n",
       "      <td>NaN</td>\n",
       "      <td>NaN</td>\n",
       "      <td>NaN</td>\n",
       "      <td>746</td>\n",
       "    </tr>\n",
       "    <tr>\n",
       "      <th>1</th>\n",
       "      <td>63476763</td>\n",
       "      <td>1021</td>\n",
       "      <td>300 - Rescue, EMS incident, other</td>\n",
       "      <td>06/30/2018 11:54:44 PM</td>\n",
       "      <td>06/30/2018 11:58:59 PM</td>\n",
       "      <td>1.0</td>\n",
       "      <td>07/01/2018 12:09:29 AM</td>\n",
       "      <td>11 - First Alarm</td>\n",
       "      <td>885.0</td>\n",
       "      <td>00 - Action taken, other</td>\n",
       "      <td>...</td>\n",
       "      <td>4 - Brooklyn</td>\n",
       "      <td>NaN</td>\n",
       "      <td>NaN</td>\n",
       "      <td>NaN</td>\n",
       "      <td>NaN</td>\n",
       "      <td>NaN</td>\n",
       "      <td>NaN</td>\n",
       "      <td>NaN</td>\n",
       "      <td>NaN</td>\n",
       "      <td>300</td>\n",
       "    </tr>\n",
       "    <tr>\n",
       "      <th>2</th>\n",
       "      <td>63476761</td>\n",
       "      <td>2745</td>\n",
       "      <td>651 - Smoke scare, odor of smoke</td>\n",
       "      <td>06/30/2018 11:54:13 PM</td>\n",
       "      <td>06/30/2018 11:58:29 PM</td>\n",
       "      <td>3.0</td>\n",
       "      <td>07/01/2018 12:07:50 AM</td>\n",
       "      <td>11 - First Alarm</td>\n",
       "      <td>817.0</td>\n",
       "      <td>00 - Action taken, other</td>\n",
       "      <td>...</td>\n",
       "      <td>2 - Bronx</td>\n",
       "      <td>NaN</td>\n",
       "      <td>NaN</td>\n",
       "      <td>NaN</td>\n",
       "      <td>NaN</td>\n",
       "      <td>NaN</td>\n",
       "      <td>NaN</td>\n",
       "      <td>NaN</td>\n",
       "      <td>NaN</td>\n",
       "      <td>651</td>\n",
       "    </tr>\n",
       "    <tr>\n",
       "      <th>3</th>\n",
       "      <td>63476762</td>\n",
       "      <td>2135</td>\n",
       "      <td>117 - Commercial Compactor fire, confined to r...</td>\n",
       "      <td>06/30/2018 11:54:08 PM</td>\n",
       "      <td>06/30/2018 11:58:53 PM</td>\n",
       "      <td>5.0</td>\n",
       "      <td>07/01/2018 12:19:16 AM</td>\n",
       "      <td>11 - First Alarm</td>\n",
       "      <td>1508.0</td>\n",
       "      <td>11 - Extinguishment by fire service personnel</td>\n",
       "      <td>...</td>\n",
       "      <td>2 - Bronx</td>\n",
       "      <td>basement</td>\n",
       "      <td>NaN</td>\n",
       "      <td>NaN</td>\n",
       "      <td>NaN</td>\n",
       "      <td>NaN</td>\n",
       "      <td>NaN</td>\n",
       "      <td>NaN</td>\n",
       "      <td>NaN</td>\n",
       "      <td>117</td>\n",
       "    </tr>\n",
       "    <tr>\n",
       "      <th>4</th>\n",
       "      <td>63476759</td>\n",
       "      <td>1877</td>\n",
       "      <td>710 - Malicious, mischievous false call, other</td>\n",
       "      <td>06/30/2018 11:53:33 PM</td>\n",
       "      <td>06/30/2018 11:56:50 PM</td>\n",
       "      <td>1.0</td>\n",
       "      <td>06/30/2018 11:57:11 PM</td>\n",
       "      <td>11 - First Alarm</td>\n",
       "      <td>218.0</td>\n",
       "      <td>00 - Action taken, other</td>\n",
       "      <td>...</td>\n",
       "      <td>4 - Brooklyn</td>\n",
       "      <td>NaN</td>\n",
       "      <td>NaN</td>\n",
       "      <td>NaN</td>\n",
       "      <td>NaN</td>\n",
       "      <td>NaN</td>\n",
       "      <td>NaN</td>\n",
       "      <td>NaN</td>\n",
       "      <td>NaN</td>\n",
       "      <td>710</td>\n",
       "    </tr>\n",
       "  </tbody>\n",
       "</table>\n",
       "<p>5 rows × 25 columns</p>\n",
       "</div>"
      ],
      "text/plain": [
       "   IM_INCIDENT_KEY FIRE_BOX  \\\n",
       "0         63476768     2928   \n",
       "1         63476763     1021   \n",
       "2         63476761     2745   \n",
       "3         63476762     2135   \n",
       "4         63476759     1877   \n",
       "\n",
       "                                  INCIDENT_TYPE_DESC      INCIDENT_DATE_TIME  \\\n",
       "0   746 - Carbon monoxide detector activation, no CO  06/30/2018 11:55:29 PM   \n",
       "1                  300 - Rescue, EMS incident, other  06/30/2018 11:54:44 PM   \n",
       "2                   651 - Smoke scare, odor of smoke  06/30/2018 11:54:13 PM   \n",
       "3  117 - Commercial Compactor fire, confined to r...  06/30/2018 11:54:08 PM   \n",
       "4     710 - Malicious, mischievous false call, other  06/30/2018 11:53:33 PM   \n",
       "\n",
       "        ARRIVAL_DATE_TIME  UNITS_ONSCENE LAST_UNIT_CLEARED_DATE_TIME  \\\n",
       "0  07/01/2018 12:00:32 AM            2.0      07/01/2018 12:22:57 AM   \n",
       "1  06/30/2018 11:58:59 PM            1.0      07/01/2018 12:09:29 AM   \n",
       "2  06/30/2018 11:58:29 PM            3.0      07/01/2018 12:07:50 AM   \n",
       "3  06/30/2018 11:58:53 PM            5.0      07/01/2018 12:19:16 AM   \n",
       "4  06/30/2018 11:56:50 PM            1.0      06/30/2018 11:57:11 PM   \n",
       "\n",
       "  HIGHEST_LEVEL_DESC  TOTAL_INCIDENT_DURATION  \\\n",
       "0   11 - First Alarm                   1648.0   \n",
       "1   11 - First Alarm                    885.0   \n",
       "2   11 - First Alarm                    817.0   \n",
       "3   11 - First Alarm                   1508.0   \n",
       "4   11 - First Alarm                    218.0   \n",
       "\n",
       "                                  ACTION_TAKEN1_DESC         ...          \\\n",
       "0  42 - HazMat detection, monitoring, sampling, &...         ...           \n",
       "1                           00 - Action taken, other         ...           \n",
       "2                           00 - Action taken, other         ...           \n",
       "3      11 - Extinguishment by fire service personnel         ...           \n",
       "4                           00 - Action taken, other         ...           \n",
       "\n",
       "   BOROUGH_DESC     FLOOR CO_DETECTOR_PRESENT_DESC  \\\n",
       "0     2 - Bronx         1                      Yes   \n",
       "1  4 - Brooklyn       NaN                      NaN   \n",
       "2     2 - Bronx       NaN                      NaN   \n",
       "3     2 - Bronx  basement                      NaN   \n",
       "4  4 - Brooklyn       NaN                      NaN   \n",
       "\n",
       "  FIRE_ORIGIN_BELOW_GRADE_FLAG STORY_FIRE_ORIGIN_COUNT FIRE_SPREAD_DESC  \\\n",
       "0                          NaN                     NaN              NaN   \n",
       "1                          NaN                     NaN              NaN   \n",
       "2                          NaN                     NaN              NaN   \n",
       "3                          NaN                     NaN              NaN   \n",
       "4                          NaN                     NaN              NaN   \n",
       "\n",
       "  DETECTOR_PRESENCE_DESC AES_PRESENCE_DESC  STANDPIPE_SYS_PRESENT_FLAG  \\\n",
       "0                    NaN               NaN                         NaN   \n",
       "1                    NaN               NaN                         NaN   \n",
       "2                    NaN               NaN                         NaN   \n",
       "3                    NaN               NaN                         NaN   \n",
       "4                    NaN               NaN                         NaN   \n",
       "\n",
       "   INCIDENT_TYPE_CODE  \n",
       "0                 746  \n",
       "1                 300  \n",
       "2                 651  \n",
       "3                 117  \n",
       "4                 710  \n",
       "\n",
       "[5 rows x 25 columns]"
      ]
     },
     "execution_count": 40,
     "metadata": {},
     "output_type": "execute_result"
    }
   ],
   "source": [
    "data['INCIDENT_TYPE_CODE'] = data['INCIDENT_TYPE_DESC'].apply(lambda x: x.split(' - ')[0])\n",
    "data.head()"
   ]
  },
  {
   "cell_type": "code",
   "execution_count": 41,
   "metadata": {},
   "outputs": [
    {
     "data": {
      "text/plain": [
       "2.801157225753703"
      ]
     },
     "execution_count": 41,
     "metadata": {},
     "output_type": "execute_result"
    }
   ],
   "source": [
    "mean111 = data.UNITS_ONSCENE[data.INCIDENT_TYPE_CODE=='111'].mean()\n",
    "mean651 = data.UNITS_ONSCENE[data.INCIDENT_TYPE_CODE=='651'].mean()\n",
    "ratio1 = mean111/mean651\n",
    "ratio1"
   ]
  },
  {
   "cell_type": "markdown",
   "metadata": {},
   "source": [
    "3. How many times more likely is an incident in Staten Island a false call compared to in Manhattan? The answer should be the ratio of Staten Island false call rate to Manhattan false call rate. A false call is an incident for which `INCIDENT_TYPE_DESC` is `710 - Malicious, mischievous false call, other`."
   ]
  },
  {
   "cell_type": "code",
   "execution_count": 42,
   "metadata": {},
   "outputs": [
    {
     "data": {
      "text/plain": [
       "0.32626764908714745"
      ]
     },
     "execution_count": 42,
     "metadata": {},
     "output_type": "execute_result"
    }
   ],
   "source": [
    "count_Staten = data.IM_INCIDENT_KEY[(data.INCIDENT_TYPE_CODE == '710')\n",
    "                                    & (data.BOROUGH_DESC == '3 - Staten Island')].count()\n",
    "count_Man = data.IM_INCIDENT_KEY[(data.INCIDENT_TYPE_CODE == '710')\n",
    "                                 & (data.BOROUGH_DESC == '1 - Manhattan')].count()\n",
    "ratio2 = count_Staten/count_Man\n",
    "ratio2"
   ]
  },
  {
   "cell_type": "markdown",
   "metadata": {},
   "source": [
    "4. Check the distribution of the number of minutes it takes between the time a `111 - Building fire` incident has been logged into the Computer Aided Dispatch system and the time at which the first unit arrives on scene. \n",
    "    * What is the third quartile of that distribution. **Note:** the number of minutes can be fractional (ie, do not round)."
   ]
  },
  {
   "cell_type": "code",
   "execution_count": 43,
   "metadata": {},
   "outputs": [
    {
     "data": {
      "text/html": [
       "<div>\n",
       "<style scoped>\n",
       "    .dataframe tbody tr th:only-of-type {\n",
       "        vertical-align: middle;\n",
       "    }\n",
       "\n",
       "    .dataframe tbody tr th {\n",
       "        vertical-align: top;\n",
       "    }\n",
       "\n",
       "    .dataframe thead th {\n",
       "        text-align: right;\n",
       "    }\n",
       "</style>\n",
       "<table border=\"1\" class=\"dataframe\">\n",
       "  <thead>\n",
       "    <tr style=\"text-align: right;\">\n",
       "      <th></th>\n",
       "      <th>INCIDENT_DATE_TIME</th>\n",
       "      <th>ARRIVAL_DATE_TIME</th>\n",
       "      <th>ZIP_CODE</th>\n",
       "    </tr>\n",
       "  </thead>\n",
       "  <tbody>\n",
       "    <tr>\n",
       "      <th>494</th>\n",
       "      <td>06/30/2018 06:20:20 PM</td>\n",
       "      <td>06/30/2018 06:24:00 PM</td>\n",
       "      <td>10017</td>\n",
       "    </tr>\n",
       "    <tr>\n",
       "      <th>633</th>\n",
       "      <td>06/30/2018 04:45:17 PM</td>\n",
       "      <td>06/30/2018 04:49:52 PM</td>\n",
       "      <td>10016</td>\n",
       "    </tr>\n",
       "    <tr>\n",
       "      <th>693</th>\n",
       "      <td>06/30/2018 03:48:42 PM</td>\n",
       "      <td>06/30/2018 03:52:25 PM</td>\n",
       "      <td>10473</td>\n",
       "    </tr>\n",
       "    <tr>\n",
       "      <th>987</th>\n",
       "      <td>06/30/2018 12:00:32 PM</td>\n",
       "      <td>06/30/2018 12:03:48 PM</td>\n",
       "      <td>11236</td>\n",
       "    </tr>\n",
       "    <tr>\n",
       "      <th>1077</th>\n",
       "      <td>06/30/2018 10:36:51 AM</td>\n",
       "      <td>06/30/2018 10:39:36 AM</td>\n",
       "      <td>11228</td>\n",
       "    </tr>\n",
       "  </tbody>\n",
       "</table>\n",
       "</div>"
      ],
      "text/plain": [
       "          INCIDENT_DATE_TIME       ARRIVAL_DATE_TIME ZIP_CODE\n",
       "494   06/30/2018 06:20:20 PM  06/30/2018 06:24:00 PM    10017\n",
       "633   06/30/2018 04:45:17 PM  06/30/2018 04:49:52 PM    10016\n",
       "693   06/30/2018 03:48:42 PM  06/30/2018 03:52:25 PM    10473\n",
       "987   06/30/2018 12:00:32 PM  06/30/2018 12:03:48 PM    11236\n",
       "1077  06/30/2018 10:36:51 AM  06/30/2018 10:39:36 AM    11228"
      ]
     },
     "execution_count": 43,
     "metadata": {},
     "output_type": "execute_result"
    }
   ],
   "source": [
    "from fractions import Fraction\n",
    "df_111 = data[data.INCIDENT_TYPE_CODE=='111'][['INCIDENT_DATE_TIME', 'ARRIVAL_DATE_TIME', 'ZIP_CODE']].dropna()\n",
    "df_111.head()"
   ]
  },
  {
   "cell_type": "code",
   "execution_count": 46,
   "metadata": {},
   "outputs": [
    {
     "data": {
      "text/html": [
       "<div>\n",
       "<style scoped>\n",
       "    .dataframe tbody tr th:only-of-type {\n",
       "        vertical-align: middle;\n",
       "    }\n",
       "\n",
       "    .dataframe tbody tr th {\n",
       "        vertical-align: top;\n",
       "    }\n",
       "\n",
       "    .dataframe thead th {\n",
       "        text-align: right;\n",
       "    }\n",
       "</style>\n",
       "<table border=\"1\" class=\"dataframe\">\n",
       "  <thead>\n",
       "    <tr style=\"text-align: right;\">\n",
       "      <th></th>\n",
       "      <th>INCIDENT_DATE_TIME</th>\n",
       "      <th>ARRIVAL_DATE_TIME</th>\n",
       "      <th>ZIP_CODE</th>\n",
       "      <th>DIFF</th>\n",
       "    </tr>\n",
       "  </thead>\n",
       "  <tbody>\n",
       "    <tr>\n",
       "      <th>494</th>\n",
       "      <td>2018-06-30 18:20:20</td>\n",
       "      <td>2018-06-30 18:24:00</td>\n",
       "      <td>10017</td>\n",
       "      <td>3.666667</td>\n",
       "    </tr>\n",
       "    <tr>\n",
       "      <th>633</th>\n",
       "      <td>2018-06-30 16:45:17</td>\n",
       "      <td>2018-06-30 16:49:52</td>\n",
       "      <td>10016</td>\n",
       "      <td>4.583333</td>\n",
       "    </tr>\n",
       "    <tr>\n",
       "      <th>693</th>\n",
       "      <td>2018-06-30 15:48:42</td>\n",
       "      <td>2018-06-30 15:52:25</td>\n",
       "      <td>10473</td>\n",
       "      <td>3.716667</td>\n",
       "    </tr>\n",
       "    <tr>\n",
       "      <th>987</th>\n",
       "      <td>2018-06-30 12:00:32</td>\n",
       "      <td>2018-06-30 12:03:48</td>\n",
       "      <td>11236</td>\n",
       "      <td>3.266667</td>\n",
       "    </tr>\n",
       "    <tr>\n",
       "      <th>1077</th>\n",
       "      <td>2018-06-30 10:36:51</td>\n",
       "      <td>2018-06-30 10:39:36</td>\n",
       "      <td>11228</td>\n",
       "      <td>2.750000</td>\n",
       "    </tr>\n",
       "  </tbody>\n",
       "</table>\n",
       "</div>"
      ],
      "text/plain": [
       "      INCIDENT_DATE_TIME   ARRIVAL_DATE_TIME ZIP_CODE      DIFF\n",
       "494  2018-06-30 18:20:20 2018-06-30 18:24:00    10017  3.666667\n",
       "633  2018-06-30 16:45:17 2018-06-30 16:49:52    10016  4.583333\n",
       "693  2018-06-30 15:48:42 2018-06-30 15:52:25    10473  3.716667\n",
       "987  2018-06-30 12:00:32 2018-06-30 12:03:48    11236  3.266667\n",
       "1077 2018-06-30 10:36:51 2018-06-30 10:39:36    11228  2.750000"
      ]
     },
     "execution_count": 46,
     "metadata": {},
     "output_type": "execute_result"
    }
   ],
   "source": [
    "for c in ['INCIDENT_DATE_TIME', 'ARRIVAL_DATE_TIME']:\n",
    "    df_111[c] = pd.to_datetime(df_111[c])\n",
    "df_111['DIFF'] = (df_111['ARRIVAL_DATE_TIME'] - df_111['INCIDENT_DATE_TIME']).dt.total_seconds()/60\n",
    "df_111.head()"
   ]
  },
  {
   "cell_type": "code",
   "execution_count": 47,
   "metadata": {},
   "outputs": [
    {
     "name": "stdout",
     "output_type": "stream",
     "text": [
      "4.166666666666667\n",
      "4691249611844267/1125899906842624\n"
     ]
    }
   ],
   "source": [
    "print(df_111['DIFF'].quantile(.75))\n",
    "print(Fraction(df_111['DIFF'].quantile(.75))) #this is not correct"
   ]
  },
  {
   "cell_type": "code",
   "execution_count": 48,
   "metadata": {},
   "outputs": [
    {
     "name": "stdout",
     "output_type": "stream",
     "text": [
      "min: -5.083333\n",
      "first quantile: 2.866667\n",
      "median: 3.466667\n",
      "third quantile: 4.166667\n",
      "max: 88.983333\n",
      "mean: 3.613671\n"
     ]
    }
   ],
   "source": [
    "print('min: %f' %df_111['DIFF'].min())\n",
    "print('first quantile: %f' %df_111['DIFF'].quantile(.25))\n",
    "print('median: %f' %df_111['DIFF'].median())\n",
    "print('third quantile: %f' %df_111['DIFF'].quantile(.75))\n",
    "print('max: %f' %df_111['DIFF'].max())\n",
    "print('mean: %f' %df_111['DIFF'].mean())"
   ]
  },
  {
   "cell_type": "code",
   "execution_count": 49,
   "metadata": {},
   "outputs": [
    {
     "data": {
      "text/plain": [
       "count    14181.000000\n",
       "mean         3.613671\n",
       "std          1.480340\n",
       "min         -5.083333\n",
       "25%          2.866667\n",
       "50%          3.466667\n",
       "75%          4.166667\n",
       "max         88.983333\n",
       "Name: DIFF, dtype: float64"
      ]
     },
     "execution_count": 49,
     "metadata": {},
     "output_type": "execute_result"
    }
   ],
   "source": [
    "df_111['DIFF'].describe()"
   ]
  },
  {
   "cell_type": "markdown",
   "metadata": {
    "scrolled": false
   },
   "source": [
    "5. We can use the FDNY dataset to investigate at what time of the day people cook most. \n",
    "    * Compute what proportion of all incidents are cooking fires for every hour of the day by normalizing the number of cooking fires in a given hour by the total number of incidents that occured in that hour.\n",
    "    * Find the hour of the day that has the highest proportion of cooking fires and submit that proportion of cooking fires. A cooking fire is an incident for which `INCIDENT_TYPE_DESC` is `113 - Cooking fire, confined to container`. **Note:** round incident times down. For example, if an incident occured at 22:55 it occured in hour 22."
   ]
  },
  {
   "cell_type": "code",
   "execution_count": 50,
   "metadata": {},
   "outputs": [],
   "source": [
    "df_cooking = data[['INCIDENT_TYPE_DESC', 'INCIDENT_TYPE_CODE', 'INCIDENT_DATE_TIME']]"
   ]
  },
  {
   "cell_type": "code",
   "execution_count": 51,
   "metadata": {},
   "outputs": [
    {
     "name": "stderr",
     "output_type": "stream",
     "text": [
      "/Users/yuhanliu/anaconda3/lib/python3.6/site-packages/ipykernel_launcher.py:1: SettingWithCopyWarning: \n",
      "A value is trying to be set on a copy of a slice from a DataFrame.\n",
      "Try using .loc[row_indexer,col_indexer] = value instead\n",
      "\n",
      "See the caveats in the documentation: http://pandas.pydata.org/pandas-docs/stable/indexing.html#indexing-view-versus-copy\n",
      "  \"\"\"Entry point for launching an IPython kernel.\n"
     ]
    }
   ],
   "source": [
    "df_cooking['Hour'] = pd.to_datetime(df_cooking['INCIDENT_DATE_TIME']).dt.hour"
   ]
  },
  {
   "cell_type": "code",
   "execution_count": 52,
   "metadata": {},
   "outputs": [
    {
     "data": {
      "text/html": [
       "<div>\n",
       "<style scoped>\n",
       "    .dataframe tbody tr th:only-of-type {\n",
       "        vertical-align: middle;\n",
       "    }\n",
       "\n",
       "    .dataframe tbody tr th {\n",
       "        vertical-align: top;\n",
       "    }\n",
       "\n",
       "    .dataframe thead th {\n",
       "        text-align: right;\n",
       "    }\n",
       "</style>\n",
       "<table border=\"1\" class=\"dataframe\">\n",
       "  <thead>\n",
       "    <tr style=\"text-align: right;\">\n",
       "      <th></th>\n",
       "      <th>INCIDENT_TYPE_DESC</th>\n",
       "      <th>INCIDENT_TYPE_CODE</th>\n",
       "      <th>INCIDENT_DATE_TIME</th>\n",
       "      <th>Hour</th>\n",
       "    </tr>\n",
       "  </thead>\n",
       "  <tbody>\n",
       "    <tr>\n",
       "      <th>0</th>\n",
       "      <td>746 - Carbon monoxide detector activation, no CO</td>\n",
       "      <td>746</td>\n",
       "      <td>06/30/2018 11:55:29 PM</td>\n",
       "      <td>23</td>\n",
       "    </tr>\n",
       "    <tr>\n",
       "      <th>1</th>\n",
       "      <td>300 - Rescue, EMS incident, other</td>\n",
       "      <td>300</td>\n",
       "      <td>06/30/2018 11:54:44 PM</td>\n",
       "      <td>23</td>\n",
       "    </tr>\n",
       "    <tr>\n",
       "      <th>2</th>\n",
       "      <td>651 - Smoke scare, odor of smoke</td>\n",
       "      <td>651</td>\n",
       "      <td>06/30/2018 11:54:13 PM</td>\n",
       "      <td>23</td>\n",
       "    </tr>\n",
       "    <tr>\n",
       "      <th>3</th>\n",
       "      <td>117 - Commercial Compactor fire, confined to r...</td>\n",
       "      <td>117</td>\n",
       "      <td>06/30/2018 11:54:08 PM</td>\n",
       "      <td>23</td>\n",
       "    </tr>\n",
       "    <tr>\n",
       "      <th>4</th>\n",
       "      <td>710 - Malicious, mischievous false call, other</td>\n",
       "      <td>710</td>\n",
       "      <td>06/30/2018 11:53:33 PM</td>\n",
       "      <td>23</td>\n",
       "    </tr>\n",
       "  </tbody>\n",
       "</table>\n",
       "</div>"
      ],
      "text/plain": [
       "                                  INCIDENT_TYPE_DESC INCIDENT_TYPE_CODE  \\\n",
       "0   746 - Carbon monoxide detector activation, no CO                746   \n",
       "1                  300 - Rescue, EMS incident, other                300   \n",
       "2                   651 - Smoke scare, odor of smoke                651   \n",
       "3  117 - Commercial Compactor fire, confined to r...                117   \n",
       "4     710 - Malicious, mischievous false call, other                710   \n",
       "\n",
       "       INCIDENT_DATE_TIME  Hour  \n",
       "0  06/30/2018 11:55:29 PM    23  \n",
       "1  06/30/2018 11:54:44 PM    23  \n",
       "2  06/30/2018 11:54:13 PM    23  \n",
       "3  06/30/2018 11:54:08 PM    23  \n",
       "4  06/30/2018 11:53:33 PM    23  "
      ]
     },
     "execution_count": 52,
     "metadata": {},
     "output_type": "execute_result"
    }
   ],
   "source": [
    "df_cooking.head()"
   ]
  },
  {
   "cell_type": "code",
   "execution_count": 53,
   "metadata": {},
   "outputs": [
    {
     "data": {
      "text/plain": [
       "0.05109331462228189"
      ]
     },
     "execution_count": 53,
     "metadata": {},
     "output_type": "execute_result"
    }
   ],
   "source": [
    "hour_count = df_cooking.groupby('Hour')['INCIDENT_TYPE_CODE'].count()\n",
    "cooking_count = df_cooking[df_cooking.INCIDENT_TYPE_CODE == '113'].groupby('Hour')['INCIDENT_TYPE_CODE'].count()\n",
    "cooking_proba = pd.DataFrame(cooking_count/hour_count)\n",
    "cooking_proba.max()[0]"
   ]
  },
  {
   "cell_type": "markdown",
   "metadata": {},
   "source": [
    "6. What is the coefficient of determination (R squared) between the number of residents at each zip code and the number of inicidents whose type is classified as `111 - Building fire` at each of those zip codes. **Note:** The 2010 US Census population by zip code dataset should be downloaded from here (https://s3.amazonaws.com/SplitwiseBlogJB/2010+Census+Population+By+Zipcode+(ZCTA).csv) You will need to use both the FDNY responses and the US Census dataset. Ignore zip codes that do not appear in the census table."
   ]
  },
  {
   "cell_type": "code",
   "execution_count": 63,
   "metadata": {},
   "outputs": [],
   "source": [
    "import math\n",
    "def zipcode(x):\n",
    "    \"\"\"\n",
    "    change zip code from float to int\n",
    "    \"\"\"\n",
    "    try:\n",
    "        y = int(x)\n",
    "    except ValueError:\n",
    "        if type(x) == str:\n",
    "            y = int(x.split('-')[0])\n",
    "        elif math.isnan(x):\n",
    "            y = 0\n",
    "        \n",
    "    return y \n",
    "\n",
    "data['ZIP_CODE'] = data['ZIP_CODE'].apply(lambda x: zipcode(x))"
   ]
  },
  {
   "cell_type": "code",
   "execution_count": 64,
   "metadata": {},
   "outputs": [
    {
     "data": {
      "text/html": [
       "<div>\n",
       "<style scoped>\n",
       "    .dataframe tbody tr th:only-of-type {\n",
       "        vertical-align: middle;\n",
       "    }\n",
       "\n",
       "    .dataframe tbody tr th {\n",
       "        vertical-align: top;\n",
       "    }\n",
       "\n",
       "    .dataframe thead th {\n",
       "        text-align: right;\n",
       "    }\n",
       "</style>\n",
       "<table border=\"1\" class=\"dataframe\">\n",
       "  <thead>\n",
       "    <tr style=\"text-align: right;\">\n",
       "      <th></th>\n",
       "      <th>Zip Code ZCTA</th>\n",
       "      <th>2010 Census Population</th>\n",
       "    </tr>\n",
       "  </thead>\n",
       "  <tbody>\n",
       "    <tr>\n",
       "      <th>0</th>\n",
       "      <td>1001</td>\n",
       "      <td>16769</td>\n",
       "    </tr>\n",
       "    <tr>\n",
       "      <th>1</th>\n",
       "      <td>1002</td>\n",
       "      <td>29049</td>\n",
       "    </tr>\n",
       "    <tr>\n",
       "      <th>2</th>\n",
       "      <td>1003</td>\n",
       "      <td>10372</td>\n",
       "    </tr>\n",
       "    <tr>\n",
       "      <th>3</th>\n",
       "      <td>1005</td>\n",
       "      <td>5079</td>\n",
       "    </tr>\n",
       "    <tr>\n",
       "      <th>4</th>\n",
       "      <td>1007</td>\n",
       "      <td>14649</td>\n",
       "    </tr>\n",
       "  </tbody>\n",
       "</table>\n",
       "</div>"
      ],
      "text/plain": [
       "   Zip Code ZCTA  2010 Census Population\n",
       "0           1001                   16769\n",
       "1           1002                   29049\n",
       "2           1003                   10372\n",
       "3           1005                    5079\n",
       "4           1007                   14649"
      ]
     },
     "execution_count": 64,
     "metadata": {},
     "output_type": "execute_result"
    }
   ],
   "source": [
    "census_fname = 'https://s3.amazonaws.com/SplitwiseBlogJB/2010+Census+Population+By+Zipcode+(ZCTA).csv'\n",
    "df_census = pd.read_csv(census_fname)\n",
    "df_census.head()"
   ]
  },
  {
   "cell_type": "code",
   "execution_count": 65,
   "metadata": {},
   "outputs": [
    {
     "data": {
      "text/html": [
       "<div>\n",
       "<style scoped>\n",
       "    .dataframe tbody tr th:only-of-type {\n",
       "        vertical-align: middle;\n",
       "    }\n",
       "\n",
       "    .dataframe tbody tr th {\n",
       "        vertical-align: top;\n",
       "    }\n",
       "\n",
       "    .dataframe thead th {\n",
       "        text-align: right;\n",
       "    }\n",
       "</style>\n",
       "<table border=\"1\" class=\"dataframe\">\n",
       "  <thead>\n",
       "    <tr style=\"text-align: right;\">\n",
       "      <th></th>\n",
       "    </tr>\n",
       "  </thead>\n",
       "  <tbody>\n",
       "    <tr>\n",
       "      <th>10017.0</th>\n",
       "    </tr>\n",
       "    <tr>\n",
       "      <th>10016.0</th>\n",
       "    </tr>\n",
       "    <tr>\n",
       "      <th>10473.0</th>\n",
       "    </tr>\n",
       "    <tr>\n",
       "      <th>11236.0</th>\n",
       "    </tr>\n",
       "    <tr>\n",
       "      <th>11228.0</th>\n",
       "    </tr>\n",
       "  </tbody>\n",
       "</table>\n",
       "</div>"
      ],
      "text/plain": [
       "Empty DataFrame\n",
       "Columns: []\n",
       "Index: [10017.0, 10016.0, 10473.0, 11236.0, 11228.0]"
      ]
     },
     "execution_count": 65,
     "metadata": {},
     "output_type": "execute_result"
    }
   ],
   "source": [
    "df_zipcode = pd.DataFrame(index=df_111.ZIP_CODE.unique())\n",
    "df_zipcode.head()"
   ]
  },
  {
   "cell_type": "code",
   "execution_count": 66,
   "metadata": {},
   "outputs": [
    {
     "data": {
      "text/html": [
       "<div>\n",
       "<style scoped>\n",
       "    .dataframe tbody tr th:only-of-type {\n",
       "        vertical-align: middle;\n",
       "    }\n",
       "\n",
       "    .dataframe tbody tr th {\n",
       "        vertical-align: top;\n",
       "    }\n",
       "\n",
       "    .dataframe thead th {\n",
       "        text-align: right;\n",
       "    }\n",
       "</style>\n",
       "<table border=\"1\" class=\"dataframe\">\n",
       "  <thead>\n",
       "    <tr style=\"text-align: right;\">\n",
       "      <th></th>\n",
       "      <th>2010 Census Population</th>\n",
       "    </tr>\n",
       "    <tr>\n",
       "      <th>Zip Code ZCTA</th>\n",
       "      <th></th>\n",
       "    </tr>\n",
       "  </thead>\n",
       "  <tbody>\n",
       "    <tr>\n",
       "      <th>1001</th>\n",
       "      <td>16769</td>\n",
       "    </tr>\n",
       "    <tr>\n",
       "      <th>1002</th>\n",
       "      <td>29049</td>\n",
       "    </tr>\n",
       "    <tr>\n",
       "      <th>1003</th>\n",
       "      <td>10372</td>\n",
       "    </tr>\n",
       "    <tr>\n",
       "      <th>1005</th>\n",
       "      <td>5079</td>\n",
       "    </tr>\n",
       "    <tr>\n",
       "      <th>1007</th>\n",
       "      <td>14649</td>\n",
       "    </tr>\n",
       "  </tbody>\n",
       "</table>\n",
       "</div>"
      ],
      "text/plain": [
       "               2010 Census Population\n",
       "Zip Code ZCTA                        \n",
       "1001                            16769\n",
       "1002                            29049\n",
       "1003                            10372\n",
       "1005                             5079\n",
       "1007                            14649"
      ]
     },
     "execution_count": 66,
     "metadata": {},
     "output_type": "execute_result"
    }
   ],
   "source": [
    "df_census = df_census.set_index('Zip Code ZCTA')\n",
    "df_census.head()"
   ]
  },
  {
   "cell_type": "code",
   "execution_count": 67,
   "metadata": {},
   "outputs": [
    {
     "data": {
      "text/html": [
       "<div>\n",
       "<style scoped>\n",
       "    .dataframe tbody tr th:only-of-type {\n",
       "        vertical-align: middle;\n",
       "    }\n",
       "\n",
       "    .dataframe tbody tr th {\n",
       "        vertical-align: top;\n",
       "    }\n",
       "\n",
       "    .dataframe thead th {\n",
       "        text-align: right;\n",
       "    }\n",
       "</style>\n",
       "<table border=\"1\" class=\"dataframe\">\n",
       "  <thead>\n",
       "    <tr style=\"text-align: right;\">\n",
       "      <th></th>\n",
       "      <th>incidents</th>\n",
       "    </tr>\n",
       "  </thead>\n",
       "  <tbody>\n",
       "    <tr>\n",
       "      <th>10017.0</th>\n",
       "      <td>53</td>\n",
       "    </tr>\n",
       "    <tr>\n",
       "      <th>10016.0</th>\n",
       "      <td>122</td>\n",
       "    </tr>\n",
       "    <tr>\n",
       "      <th>10473.0</th>\n",
       "      <td>117</td>\n",
       "    </tr>\n",
       "    <tr>\n",
       "      <th>11236.0</th>\n",
       "      <td>155</td>\n",
       "    </tr>\n",
       "    <tr>\n",
       "      <th>11228.0</th>\n",
       "      <td>37</td>\n",
       "    </tr>\n",
       "  </tbody>\n",
       "</table>\n",
       "</div>"
      ],
      "text/plain": [
       "         incidents\n",
       "10017.0         53\n",
       "10016.0        122\n",
       "10473.0        117\n",
       "11236.0        155\n",
       "11228.0         37"
      ]
     },
     "execution_count": 67,
     "metadata": {},
     "output_type": "execute_result"
    }
   ],
   "source": [
    "df_zipcode['incidents'] = df_111.groupby('ZIP_CODE').size()\n",
    "df_zipcode.head()"
   ]
  },
  {
   "cell_type": "code",
   "execution_count": 68,
   "metadata": {},
   "outputs": [
    {
     "data": {
      "text/html": [
       "<div>\n",
       "<style scoped>\n",
       "    .dataframe tbody tr th:only-of-type {\n",
       "        vertical-align: middle;\n",
       "    }\n",
       "\n",
       "    .dataframe tbody tr th {\n",
       "        vertical-align: top;\n",
       "    }\n",
       "\n",
       "    .dataframe thead th {\n",
       "        text-align: right;\n",
       "    }\n",
       "</style>\n",
       "<table border=\"1\" class=\"dataframe\">\n",
       "  <thead>\n",
       "    <tr style=\"text-align: right;\">\n",
       "      <th></th>\n",
       "      <th>incidents</th>\n",
       "      <th>population</th>\n",
       "    </tr>\n",
       "  </thead>\n",
       "  <tbody>\n",
       "    <tr>\n",
       "      <th>10001.0</th>\n",
       "      <td>88</td>\n",
       "      <td>21102</td>\n",
       "    </tr>\n",
       "    <tr>\n",
       "      <th>10002.0</th>\n",
       "      <td>121</td>\n",
       "      <td>81410</td>\n",
       "    </tr>\n",
       "    <tr>\n",
       "      <th>10003.0</th>\n",
       "      <td>93</td>\n",
       "      <td>56024</td>\n",
       "    </tr>\n",
       "    <tr>\n",
       "      <th>10004.0</th>\n",
       "      <td>9</td>\n",
       "      <td>3089</td>\n",
       "    </tr>\n",
       "    <tr>\n",
       "      <th>10005.0</th>\n",
       "      <td>7</td>\n",
       "      <td>7135</td>\n",
       "    </tr>\n",
       "  </tbody>\n",
       "</table>\n",
       "</div>"
      ],
      "text/plain": [
       "         incidents  population\n",
       "10001.0         88       21102\n",
       "10002.0        121       81410\n",
       "10003.0         93       56024\n",
       "10004.0          9        3089\n",
       "10005.0          7        7135"
      ]
     },
     "execution_count": 68,
     "metadata": {},
     "output_type": "execute_result"
    }
   ],
   "source": [
    "df_zipcode = df_zipcode.merge(df_census, left_index=True, right_index=True)\n",
    "df_zipcode = df_zipcode.rename(columns={'2010 Census Population': 'population'})\n",
    "df_zipcode.head()"
   ]
  },
  {
   "cell_type": "code",
   "execution_count": 69,
   "metadata": {},
   "outputs": [
    {
     "data": {
      "text/plain": [
       "0.7732399333889441"
      ]
     },
     "execution_count": 69,
     "metadata": {},
     "output_type": "execute_result"
    }
   ],
   "source": [
    "from scipy import stats\n",
    "y = df_zipcode['incidents']\n",
    "x = df_zipcode['population']\n",
    "slope, intercept, r_value, p_value, std_err = stats.linregress(x, y)\n",
    "r_value"
   ]
  },
  {
   "cell_type": "code",
   "execution_count": 70,
   "metadata": {},
   "outputs": [
    {
     "data": {
      "text/plain": [
       "<matplotlib.axes._subplots.AxesSubplot at 0x13aa3b390>"
      ]
     },
     "execution_count": 70,
     "metadata": {},
     "output_type": "execute_result"
    },
    {
     "data": {
      "image/png": "[encoded data removed]",
      "text/plain": [
       "<Figure size 432x288 with 1 Axes>"
      ]
     },
     "metadata": {},
     "output_type": "display_data"
    }
   ],
   "source": [
    "import matplotlib.pyplot as plt\n",
    "import matplotlib as mpl\n",
    "df_zipcode.plot.scatter(x='population', y='incidents')"
   ]
  },
  {
   "cell_type": "markdown",
   "metadata": {},
   "source": [
    "7. For this question, only consider incidents that have information about whether a CO detector was present or not. We are interested in how many times more likely it is that an incident is long when no CO detector is present compared to when a CO detector is present. For events with CO detector and for those without one, compute the proportion of incidents that lasted $20-30, 30-40, 40-50, 50-60,$ and $60-70$ minutes (both interval boundary values included) by dividing the number of incidents in each time interval with the total number of incidents. \n",
    "    * For each bin, compute the ratio of the `CO detector absent` frequency to the `CO detector present` frequency.\n",
    "    * Perform a linear regression of this ratio to the midpoint of the bins.\n",
    "    * From this, what is the predicted ratio for events lasting $39$ minutes?"
   ]
  },
  {
   "cell_type": "code",
   "execution_count": 74,
   "metadata": {},
   "outputs": [
    {
     "data": {
      "text/html": [
       "<div>\n",
       "<style scoped>\n",
       "    .dataframe tbody tr th:only-of-type {\n",
       "        vertical-align: middle;\n",
       "    }\n",
       "\n",
       "    .dataframe tbody tr th {\n",
       "        vertical-align: top;\n",
       "    }\n",
       "\n",
       "    .dataframe thead th {\n",
       "        text-align: right;\n",
       "    }\n",
       "</style>\n",
       "<table border=\"1\" class=\"dataframe\">\n",
       "  <thead>\n",
       "    <tr style=\"text-align: right;\">\n",
       "      <th></th>\n",
       "      <th>IM_INCIDENT_KEY</th>\n",
       "      <th>FIRE_BOX</th>\n",
       "      <th>INCIDENT_TYPE_DESC</th>\n",
       "      <th>INCIDENT_DATE_TIME</th>\n",
       "      <th>ARRIVAL_DATE_TIME</th>\n",
       "      <th>UNITS_ONSCENE</th>\n",
       "      <th>LAST_UNIT_CLEARED_DATE_TIME</th>\n",
       "      <th>HIGHEST_LEVEL_DESC</th>\n",
       "      <th>TOTAL_INCIDENT_DURATION</th>\n",
       "      <th>ACTION_TAKEN1_DESC</th>\n",
       "      <th>...</th>\n",
       "      <th>BOROUGH_DESC</th>\n",
       "      <th>FLOOR</th>\n",
       "      <th>CO_DETECTOR_PRESENT_DESC</th>\n",
       "      <th>FIRE_ORIGIN_BELOW_GRADE_FLAG</th>\n",
       "      <th>STORY_FIRE_ORIGIN_COUNT</th>\n",
       "      <th>FIRE_SPREAD_DESC</th>\n",
       "      <th>DETECTOR_PRESENCE_DESC</th>\n",
       "      <th>AES_PRESENCE_DESC</th>\n",
       "      <th>STANDPIPE_SYS_PRESENT_FLAG</th>\n",
       "      <th>INCIDENT_TYPE_CODE</th>\n",
       "    </tr>\n",
       "  </thead>\n",
       "  <tbody>\n",
       "    <tr>\n",
       "      <th>0</th>\n",
       "      <td>63476768</td>\n",
       "      <td>2928</td>\n",
       "      <td>746 - Carbon monoxide detector activation, no CO</td>\n",
       "      <td>06/30/2018 11:55:29 PM</td>\n",
       "      <td>07/01/2018 12:00:32 AM</td>\n",
       "      <td>2.0</td>\n",
       "      <td>07/01/2018 12:22:57 AM</td>\n",
       "      <td>11 - First Alarm</td>\n",
       "      <td>1648.0</td>\n",
       "      <td>42 - HazMat detection, monitoring, sampling, &amp;...</td>\n",
       "      <td>...</td>\n",
       "      <td>2 - Bronx</td>\n",
       "      <td>1</td>\n",
       "      <td>Yes</td>\n",
       "      <td>NaN</td>\n",
       "      <td>NaN</td>\n",
       "      <td>NaN</td>\n",
       "      <td>NaN</td>\n",
       "      <td>NaN</td>\n",
       "      <td>NaN</td>\n",
       "      <td>746</td>\n",
       "    </tr>\n",
       "    <tr>\n",
       "      <th>31</th>\n",
       "      <td>63476652</td>\n",
       "      <td>2158</td>\n",
       "      <td>424 - Carbon monoxide incident</td>\n",
       "      <td>06/30/2018 11:30:03 PM</td>\n",
       "      <td>06/30/2018 11:35:26 PM</td>\n",
       "      <td>1.0</td>\n",
       "      <td>06/30/2018 11:49:35 PM</td>\n",
       "      <td>11 - First Alarm</td>\n",
       "      <td>1172.0</td>\n",
       "      <td>42 - HazMat detection, monitoring, sampling, &amp;...</td>\n",
       "      <td>...</td>\n",
       "      <td>4 - Brooklyn</td>\n",
       "      <td>NaN</td>\n",
       "      <td>Yes</td>\n",
       "      <td>NaN</td>\n",
       "      <td>NaN</td>\n",
       "      <td>NaN</td>\n",
       "      <td>NaN</td>\n",
       "      <td>NaN</td>\n",
       "      <td>NaN</td>\n",
       "      <td>424</td>\n",
       "    </tr>\n",
       "    <tr>\n",
       "      <th>49</th>\n",
       "      <td>63476601</td>\n",
       "      <td>1691</td>\n",
       "      <td>736 - CO detector activation due to malfunction</td>\n",
       "      <td>06/30/2018 11:18:16 PM</td>\n",
       "      <td>06/30/2018 11:23:47 PM</td>\n",
       "      <td>2.0</td>\n",
       "      <td>06/30/2018 11:32:13 PM</td>\n",
       "      <td>11 - First Alarm</td>\n",
       "      <td>837.0</td>\n",
       "      <td>00 - Action taken, other</td>\n",
       "      <td>...</td>\n",
       "      <td>1 - Manhattan</td>\n",
       "      <td>NaN</td>\n",
       "      <td>Yes</td>\n",
       "      <td>NaN</td>\n",
       "      <td>NaN</td>\n",
       "      <td>NaN</td>\n",
       "      <td>NaN</td>\n",
       "      <td>NaN</td>\n",
       "      <td>NaN</td>\n",
       "      <td>736</td>\n",
       "    </tr>\n",
       "    <tr>\n",
       "      <th>123</th>\n",
       "      <td>63476376</td>\n",
       "      <td>4237</td>\n",
       "      <td>424 - Carbon monoxide incident</td>\n",
       "      <td>06/30/2018 10:27:51 PM</td>\n",
       "      <td>06/30/2018 10:33:10 PM</td>\n",
       "      <td>2.0</td>\n",
       "      <td>06/30/2018 11:00:22 PM</td>\n",
       "      <td>11 - First Alarm</td>\n",
       "      <td>1951.0</td>\n",
       "      <td>86 - Investigate</td>\n",
       "      <td>...</td>\n",
       "      <td>2 - Bronx</td>\n",
       "      <td>Basement</td>\n",
       "      <td>Yes</td>\n",
       "      <td>NaN</td>\n",
       "      <td>NaN</td>\n",
       "      <td>NaN</td>\n",
       "      <td>NaN</td>\n",
       "      <td>NaN</td>\n",
       "      <td>NaN</td>\n",
       "      <td>424</td>\n",
       "    </tr>\n",
       "    <tr>\n",
       "      <th>150</th>\n",
       "      <td>63476249</td>\n",
       "      <td>774</td>\n",
       "      <td>424 - Carbon monoxide incident</td>\n",
       "      <td>06/30/2018 10:06:12 PM</td>\n",
       "      <td>06/30/2018 10:09:28 PM</td>\n",
       "      <td>2.0</td>\n",
       "      <td>06/30/2018 10:49:32 PM</td>\n",
       "      <td>11 - First Alarm</td>\n",
       "      <td>2600.0</td>\n",
       "      <td>42 - HazMat detection, monitoring, sampling, &amp;...</td>\n",
       "      <td>...</td>\n",
       "      <td>4 - Brooklyn</td>\n",
       "      <td>NaN</td>\n",
       "      <td>Yes</td>\n",
       "      <td>NaN</td>\n",
       "      <td>NaN</td>\n",
       "      <td>NaN</td>\n",
       "      <td>NaN</td>\n",
       "      <td>NaN</td>\n",
       "      <td>NaN</td>\n",
       "      <td>424</td>\n",
       "    </tr>\n",
       "  </tbody>\n",
       "</table>\n",
       "<p>5 rows × 25 columns</p>\n",
       "</div>"
      ],
      "text/plain": [
       "     IM_INCIDENT_KEY FIRE_BOX  \\\n",
       "0           63476768     2928   \n",
       "31          63476652     2158   \n",
       "49          63476601     1691   \n",
       "123         63476376     4237   \n",
       "150         63476249      774   \n",
       "\n",
       "                                   INCIDENT_TYPE_DESC      INCIDENT_DATE_TIME  \\\n",
       "0    746 - Carbon monoxide detector activation, no CO  06/30/2018 11:55:29 PM   \n",
       "31                     424 - Carbon monoxide incident  06/30/2018 11:30:03 PM   \n",
       "49    736 - CO detector activation due to malfunction  06/30/2018 11:18:16 PM   \n",
       "123                    424 - Carbon monoxide incident  06/30/2018 10:27:51 PM   \n",
       "150                    424 - Carbon monoxide incident  06/30/2018 10:06:12 PM   \n",
       "\n",
       "          ARRIVAL_DATE_TIME  UNITS_ONSCENE LAST_UNIT_CLEARED_DATE_TIME  \\\n",
       "0    07/01/2018 12:00:32 AM            2.0      07/01/2018 12:22:57 AM   \n",
       "31   06/30/2018 11:35:26 PM            1.0      06/30/2018 11:49:35 PM   \n",
       "49   06/30/2018 11:23:47 PM            2.0      06/30/2018 11:32:13 PM   \n",
       "123  06/30/2018 10:33:10 PM            2.0      06/30/2018 11:00:22 PM   \n",
       "150  06/30/2018 10:09:28 PM            2.0      06/30/2018 10:49:32 PM   \n",
       "\n",
       "    HIGHEST_LEVEL_DESC  TOTAL_INCIDENT_DURATION  \\\n",
       "0     11 - First Alarm                   1648.0   \n",
       "31    11 - First Alarm                   1172.0   \n",
       "49    11 - First Alarm                    837.0   \n",
       "123   11 - First Alarm                   1951.0   \n",
       "150   11 - First Alarm                   2600.0   \n",
       "\n",
       "                                    ACTION_TAKEN1_DESC         ...          \\\n",
       "0    42 - HazMat detection, monitoring, sampling, &...         ...           \n",
       "31   42 - HazMat detection, monitoring, sampling, &...         ...           \n",
       "49                            00 - Action taken, other         ...           \n",
       "123                                   86 - Investigate         ...           \n",
       "150  42 - HazMat detection, monitoring, sampling, &...         ...           \n",
       "\n",
       "      BOROUGH_DESC     FLOOR CO_DETECTOR_PRESENT_DESC  \\\n",
       "0        2 - Bronx         1                      Yes   \n",
       "31    4 - Brooklyn       NaN                      Yes   \n",
       "49   1 - Manhattan       NaN                      Yes   \n",
       "123      2 - Bronx  Basement                      Yes   \n",
       "150   4 - Brooklyn       NaN                      Yes   \n",
       "\n",
       "    FIRE_ORIGIN_BELOW_GRADE_FLAG  STORY_FIRE_ORIGIN_COUNT FIRE_SPREAD_DESC  \\\n",
       "0                            NaN                      NaN              NaN   \n",
       "31                           NaN                      NaN              NaN   \n",
       "49                           NaN                      NaN              NaN   \n",
       "123                          NaN                      NaN              NaN   \n",
       "150                          NaN                      NaN              NaN   \n",
       "\n",
       "    DETECTOR_PRESENCE_DESC AES_PRESENCE_DESC  STANDPIPE_SYS_PRESENT_FLAG  \\\n",
       "0                      NaN               NaN                         NaN   \n",
       "31                     NaN               NaN                         NaN   \n",
       "49                     NaN               NaN                         NaN   \n",
       "123                    NaN               NaN                         NaN   \n",
       "150                    NaN               NaN                         NaN   \n",
       "\n",
       "     INCIDENT_TYPE_CODE  \n",
       "0                   746  \n",
       "31                  424  \n",
       "49                  736  \n",
       "123                 424  \n",
       "150                 424  \n",
       "\n",
       "[5 rows x 25 columns]"
      ]
     },
     "execution_count": 74,
     "metadata": {},
     "output_type": "execute_result"
    }
   ],
   "source": [
    "df_co = data[~data.CO_DETECTOR_PRESENT_DESC.isnull()]\n",
    "df_co.head()"
   ]
  },
  {
   "cell_type": "code",
   "execution_count": null,
   "metadata": {},
   "outputs": [],
   "source": [
    "df_co['Duration_Min'] = df_co"
   ]
  },
  {
   "cell_type": "markdown",
   "metadata": {},
   "source": [
    "8. Calculate the chi-square test statistic for testing whether an incident is more likely to last longer than 60 minutes when CO detector is not present. Again only consider incidents that have information about whether a CO detector was present or not."
   ]
  },
  {
   "cell_type": "code",
   "execution_count": null,
   "metadata": {},
   "outputs": [],
   "source": []
  },
  {
   "cell_type": "markdown",
   "metadata": {},
   "source": [
    "9. Please provide the script used to generate this result (max 10000 characters)."
   ]
  },
  {
   "cell_type": "code",
   "execution_count": null,
   "metadata": {},
   "outputs": [],
   "source": []
  },
  {
   "cell_type": "markdown",
   "metadata": {},
   "source": [
    "### Section 2: Cars in a circular road\n",
    "#### ([Back to Top](#Table-of-Contents))\n",
    "A circular road has $N$ positions labeled $0$ through $N-1$ where adjacent positions are connected to each other and position $N-1$ is connected to $0$. $M$ cars start at position $0$ through $M-1$ (inclusive). A car can make a valid move by moving forward one position (or goes from $N-1$ to $0$) if the position it is moving into is empty. At each turn, only consider cars that have a valid move available and make one of the valid moves that you choose randomly with equal probability. After $T$ rounds, we compute the average ($A$) and standard deviation ($S$) of the position of the cars.\n"
   ]
  },
  {
   "cell_type": "code",
   "execution_count": 89,
   "metadata": {},
   "outputs": [],
   "source": [
    "import random\n",
    "import numpy as np\n",
    "def start(N, M):\n",
    "    pos = [0]*N\n",
    "    for i in range(M):\n",
    "        pos[i] = 1\n",
    "    return pos\n",
    "\n",
    "def moveable_cars(N, pos):\n",
    "    moveable_cars = []\n",
    "    for i in range(N):\n",
    "        if pos[i] == 1: \n",
    "            if i == N-1 :\n",
    "                if pos[0] == 0:\n",
    "                    moveable_cars.append(N-1)\n",
    "            else:\n",
    "                if pos[i+1] == 0:\n",
    "                    moveable_cars.append(i)\n",
    "    return moveable_cars\n",
    "\n",
    "def move(N, pos, moveable_cars):\n",
    "    n = random.choice(moveable_cars)\n",
    "    pos[n] = 0\n",
    "    if n == N-1:\n",
    "        pos[0] = 1\n",
    "    else:\n",
    "        pos[n+1] = 1\n",
    "    return pos\n"
   ]
  },
  {
   "cell_type": "markdown",
   "metadata": {},
   "source": [
    "1. What is the expected value of $A$ when $N = 10, M = 5,$ and $T = 20$?"
   ]
  },
  {
   "cell_type": "code",
   "execution_count": 90,
   "metadata": {},
   "outputs": [
    {
     "name": "stdout",
     "output_type": "stream",
     "text": [
      "1. expected value of mean: 4.246246\n",
      "2. std of mean: 0.780154\n",
      "3. expected value of std: 3.023925\n",
      "4. std of std: 0.568038\n"
     ]
    }
   ],
   "source": [
    "import statistics\n",
    "N = 10\n",
    "M = 5\n",
    "T = 20\n",
    "num_simulation = 999\n",
    "\n",
    "\n",
    "def simulation(N, M, T, num_simulation):\n",
    "    mean_vec = []\n",
    "    std_vec = []\n",
    "    for _ in range(num_simulation):\n",
    "        pos = start(N, M)\n",
    "        for i in range(T):\n",
    "            m = moveable_cars(N, pos)\n",
    "            pos = move(N, pos, m)\n",
    "        position = []\n",
    "        for i in range(N):\n",
    "            if pos[i] == 1:\n",
    "                position.append(i)\n",
    "        mean_vec.append(statistics.mean(position))\n",
    "        std_vec.append(statistics.stdev(position))\n",
    "    print('1. expected value of mean: %f' %statistics.mean(mean_vec))\n",
    "    print('2. std of mean: %f' %statistics.stdev(mean_vec))\n",
    "    print('3. expected value of std: %f' %statistics.mean(std_vec))\n",
    "    print('4. std of std: %f' %statistics.stdev(std_vec))\n",
    "\n",
    "simulation(N, M, T, num_simulation)"
   ]
  },
  {
   "cell_type": "markdown",
   "metadata": {},
   "source": [
    "2. What is the standard deviation of $A$ when $N = 10, M = 5,$ and $T = 20$?"
   ]
  },
  {
   "cell_type": "code",
   "execution_count": null,
   "metadata": {},
   "outputs": [],
   "source": []
  },
  {
   "cell_type": "markdown",
   "metadata": {},
   "source": [
    "3. What is the expected value of $S$ when $N = 10, M = 5,$ and $T = 20$?"
   ]
  },
  {
   "cell_type": "code",
   "execution_count": null,
   "metadata": {},
   "outputs": [],
   "source": []
  },
  {
   "cell_type": "markdown",
   "metadata": {},
   "source": [
    "4. What is the standard deviation of $S$ when $N = 10, M = 5,$ and $T = 20$?"
   ]
  },
  {
   "cell_type": "code",
   "execution_count": null,
   "metadata": {},
   "outputs": [],
   "source": []
  },
  {
   "cell_type": "markdown",
   "metadata": {},
   "source": [
    "5. What is the expected value of $A$ when $N = 25, M = 10,$ and $T = 50$?"
   ]
  },
  {
   "cell_type": "code",
   "execution_count": 91,
   "metadata": {},
   "outputs": [
    {
     "name": "stdout",
     "output_type": "stream",
     "text": [
      "1. expected value of mean: 9.237237\n",
      "2. std of mean: 0.767106\n",
      "3. expected value of std: 6.430968\n",
      "4. std of std: 0.884126\n"
     ]
    }
   ],
   "source": [
    "N2 = 25\n",
    "M2 = 10\n",
    "T2 = 50\n",
    "simulation(N2, M2, T2, num_simulation)"
   ]
  },
  {
   "cell_type": "markdown",
   "metadata": {},
   "source": [
    "6. What is the standard deviation of $A$ when $N = 25, M = 10,$ and $T = 50$?"
   ]
  },
  {
   "cell_type": "code",
   "execution_count": null,
   "metadata": {},
   "outputs": [],
   "source": []
  },
  {
   "cell_type": "markdown",
   "metadata": {},
   "source": [
    "7. What is the expected value of $S$ when $N = 25, M = 10,$ and $T = 50$?"
   ]
  },
  {
   "cell_type": "code",
   "execution_count": null,
   "metadata": {},
   "outputs": [],
   "source": []
  },
  {
   "cell_type": "markdown",
   "metadata": {},
   "source": [
    "8. What is the standard deviation of $S$ when $N = 25, M = 10,$ and $T = 50$?"
   ]
  },
  {
   "cell_type": "code",
   "execution_count": null,
   "metadata": {},
   "outputs": [],
   "source": []
  },
  {
   "cell_type": "markdown",
   "metadata": {},
   "source": [
    "9. Please provide the script used to generate this result (max 10000 characters)."
   ]
  },
  {
   "cell_type": "code",
   "execution_count": null,
   "metadata": {},
   "outputs": [],
   "source": []
  }
 ],
 "metadata": {
  "kernelspec": {
   "display_name": "Python 3",
   "language": "python",
   "name": "python3"
  },
  "language_info": {
   "codemirror_mode": {
    "name": "ipython",
    "version": 3
   },
   "file_extension": ".py",
   "mimetype": "text/x-python",
   "name": "python",
   "nbconvert_exporter": "python",
   "pygments_lexer": "ipython3",
   "version": "3.6.5"
  }
 },
 "nbformat": 4,
 "nbformat_minor": 2
}
